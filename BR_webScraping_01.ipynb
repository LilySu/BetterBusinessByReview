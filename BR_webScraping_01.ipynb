{
 "cells": [
  {
   "cell_type": "code",
   "execution_count": 59,
   "metadata": {},
   "outputs": [
    {
     "data": {
      "text/plain": [
       "\"Solid lobster roll in a food court near Times Square. Luke's Lobster is a Maine/bred seafood shack that sells lobster rolls with superior ingredients. And yes, its damn tasty!However, don't let its causality lead you to believe this will be a cheap lunch. Its about a 30 dollar lunch. That said, in all fairness the pricing is pretty average for a lobster roll + chips and a drink. Cheers\""
      ]
     },
     "execution_count": 59,
     "metadata": {},
     "output_type": "execute_result"
    }
   ],
   "source": [
    "import requests, bs4\n",
    "import urllib.request\n",
    "from bs4 import BeautifulSoup\n",
    "import re\n",
    "from threading import Thread\n",
    "\n",
    "\n",
    "res = requests.get('https://www.yelp.com/biz/lukes-lobster-times-square-new-york')\n",
    "res.raise_for_status()\n",
    "yelp = bs4.BeautifulSoup(res.text)\n",
    "elems = yelp.select('p span')\n",
    "elems[36].getText()"
   ]
  },
  {
   "cell_type": "code",
   "execution_count": 12,
   "metadata": {},
   "outputs": [
    {
     "data": {
      "text/plain": [
       "[<Thread(Thread-31, stopped 5652)>]"
      ]
     },
     "execution_count": 12,
     "metadata": {},
     "output_type": "execute_result"
    }
   ],
   "source": [
    "threadlist"
   ]
  },
  {
   "cell_type": "code",
   "execution_count": null,
   "metadata": {},
   "outputs": [],
   "source": []
  }
 ],
 "metadata": {
  "kernelspec": {
   "display_name": "U4-S1-NLP (Python 3.6)",
   "language": "python",
   "name": "u4-s1-nlp"
  },
  "language_info": {
   "codemirror_mode": {
    "name": "ipython",
    "version": 3
   },
   "file_extension": ".py",
   "mimetype": "text/x-python",
   "name": "python",
   "nbconvert_exporter": "python",
   "pygments_lexer": "ipython3",
   "version": "3.7.3"
  }
 },
 "nbformat": 4,
 "nbformat_minor": 2
}
