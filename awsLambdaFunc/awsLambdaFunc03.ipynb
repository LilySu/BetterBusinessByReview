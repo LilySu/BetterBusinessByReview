{
 "cells": [
  {
   "cell_type": "code",
   "execution_count": 2,
   "metadata": {},
   "outputs": [
    {
     "data": {
      "text/plain": [
       "'Added 2950 items from RDS postGreSQL table'"
      ]
     },
     "execution_count": 2,
     "metadata": {},
     "output_type": "execute_result"
    }
   ],
   "source": [
    "from requests import Session\n",
    "from lxml import html\n",
    "from datetime import datetime\n",
    "import time\n",
    "import random\n",
    "import sys\n",
    "import logging\n",
    "import psycopg2\n",
    "#rds settings\n",
    "rds_host  = \"database-spotifier.c5eevkz7wazj.us-east-2.rds.amazonaws.com\"\n",
    "name = \"tally_ds\" \n",
    "db_name = \"postgres\" \n",
    "password = \"P@ssw0rd\"\n",
    "\n",
    "\n",
    "logger = logging.getLogger()\n",
    "logger.setLevel(logging.INFO)\n",
    "\n",
    "try:\n",
    "    conn = psycopg2.connect(host=rds_host, user=name, password=password, database=db_name, port=5432, connect_timeout=5)\n",
    "except psycopg2.OperationalError as e:\n",
    "    logger.error(\"ERROR: Unexpected error: Could not connect to postGreSQL instance.\")\n",
    "    logger.error(e)\n",
    "    sys.exit()\n",
    "\n",
    "logger.info(\"SUCCESS: Connection to RDS postGreSQL instance succeeded\")\n",
    "\n",
    "\n",
    "def yelpScraper(business_id):\n",
    "    base_url = \"https://www.yelp.com/biz/\" # add business id\n",
    "    api_url = \"/review_feed?sort_by=date_desc&start=\" # add number\n",
    "    results = []\n",
    "    for n in range(1):\n",
    "        with Session() as s:\n",
    "            url = base_url + business_id + api_url + str(n*20)    \n",
    "            with s.get(url, timeout=5) as r:    \n",
    "                if r.status_code==200:\n",
    "                    response = dict(r.json()) \n",
    "                    _html = html.fromstring(response['review_list']) \n",
    "                    dates = _html.xpath(\"//div[@class='review-content']/descendant::span[@class='rating-qualifier']/text()\")\n",
    "                    dates = [datetime.strptime(d.strip(), format(\"%m/%d/%Y\")) for d in dates]\n",
    "                    stars = _html.xpath(\"//div[@class='review-content']/descendant::div[@class='biz-rating__stars']/div/@title\")\n",
    "                    stars = [float(s.split(' ')[0]) for s in stars]\n",
    "                    texts = [e.text for e in _html.xpath(\"//div[@class='review-content']/p\")]\n",
    "                    results = results + [[date, star, text] for date, star, text in zip(dates, stars, texts)]\n",
    "        time.sleep(random.uniform(0.1, 0.5))\n",
    "    return results\n",
    "def dbConnect(results):\n",
    "    item_count = 0\n",
    "    with conn.cursor() as cur:\n",
    "        for i in results:\n",
    "            x = i[0]\n",
    "            y = i[1]\n",
    "            z = i[2][:18]#\n",
    "            cur.execute(\"create table lab.review ( uuid NOT NULL DEFAULT uuid_generate_v4(), review_id character varying COLLATE pg_catalog.\"default\", business_id character varying COLLATE pg_catalog.\"default\", user_id character varying COLLATE pg_catalog.\"default\", stars double precision, datetime timestamp without time zone, date date, \"time\" time without time zone, text character varying COLLATE pg_catalog.\"default\", \"timestamp\" timestamp with time zone, data_source smallint)\")\n",
    "#             cur.execute('INSERT INTO lab.receipt (receipt_date, origin, destination) VALUES (%s, %s, %s)', (x, y, z))\n",
    "\n",
    "            conn.commit()\n",
    "            cur.execute(\"select * from lab.receipt\")\n",
    "            for row in cur:\n",
    "                item_count += 1\n",
    "                logger.info(row)\n",
    "        conn.commit()\n",
    "    return \"Added %d items from RDS postGreSQL table\" %(item_count)\n",
    "    \n",
    "# def lambda_handler(event, context):\n",
    "#     yelpScraper(\"jga_2HO_j4I7tSYf5cCEnQ\")\n",
    "#     dbConnect()\n",
    "#     return \"it worked\"\n",
    "\n",
    "results = yelpScraper(\"jga_2HO_j4I7tSYf5cCEnQ\")\n",
    "dbConnect(results)"
   ]
  },
  {
   "cell_type": "code",
   "execution_count": 10,
   "metadata": {},
   "outputs": [
    {
     "data": {
      "text/plain": [
       "'Added 158 items from RDS postGreSQL table'"
      ]
     },
     "execution_count": 10,
     "metadata": {},
     "output_type": "execute_result"
    }
   ],
   "source": [
    "import sys\n",
    "import logging\n",
    "import psycopg2\n",
    "#rds settings\n",
    "rds_host  = \"database-spotifier.c5eevkz7wazj.us-east-2.rds.amazonaws.com\"\n",
    "name = \"tally_ds\" \n",
    "db_name = \"postgres\" \n",
    "password = \"P@ssw0rd\"\n",
    "\n",
    "\n",
    "logger = logging.getLogger()\n",
    "logger.setLevel(logging.INFO)\n",
    "\n",
    "try:\n",
    "    conn = psycopg2.connect(host=rds_host, user=name, password=password, database=db_name, port=5432, connect_timeout=5)\n",
    "except psycopg2.OperationalError as e:\n",
    "    logger.error(\"ERROR: Unexpected error: Could not connect to postGreSQL instance.\")\n",
    "    logger.error(e)\n",
    "    sys.exit()\n",
    "\n",
    "logger.info(\"SUCCESS: Connection to RDS postGreSQL instance succeeded\")\n",
    "\n",
    "def dbConnect():\n",
    "    item_count = 0\n",
    "\n",
    "    with conn.cursor() as cur:\n",
    "        cur.execute('create table lab.review (uuid uuid NOT NULL DEFAULT uuid_generate_v4(), review_id character varying COLLATE pg_catalog.\"default\", business_id character varying COLLATE pg_catalog.\"default\", user_id character varying COLLATE pg_catalog.\"default\", stars double precision, datetime timestamp without time zone, date date, time time without time zone, text character varying COLLATE pg_catalog.\"default\", timestamp timestamp with time zone, data_source smallint)')\n",
    "        conn.commit()\n",
    "        cur.execute(\"select * from lab.receipt\")\n",
    "        for row in cur:\n",
    "            item_count += 1\n",
    "            logger.info(row)\n",
    "            #print(row)\n",
    "    conn.commit()\n",
    "\n",
    "    return \"Added %d items from RDS postGreSQL table\" %(item_count)\n",
    "    \n",
    "# def lambda_handler(event, context):\n",
    "#     dbConnect()\n",
    "#     return \"it worked\"\n",
    "\n",
    "dbConnect()\n"
   ]
  },
  {
   "cell_type": "code",
   "execution_count": null,
   "metadata": {},
   "outputs": [],
   "source": []
  }
 ],
 "metadata": {
  "kernelspec": {
   "display_name": "Python 3",
   "language": "python",
   "name": "python3"
  },
  "language_info": {
   "codemirror_mode": {
    "name": "ipython",
    "version": 3
   },
   "file_extension": ".py",
   "mimetype": "text/x-python",
   "name": "python",
   "nbconvert_exporter": "python",
   "pygments_lexer": "ipython3",
   "version": "3.7.4"
  }
 },
 "nbformat": 4,
 "nbformat_minor": 4
}
