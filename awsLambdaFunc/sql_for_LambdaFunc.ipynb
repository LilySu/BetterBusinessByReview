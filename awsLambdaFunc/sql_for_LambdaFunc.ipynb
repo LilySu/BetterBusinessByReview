{
 "cells": [
  {
   "cell_type": "code",
   "execution_count": null,
   "metadata": {},
   "outputs": [],
   "source": [
    "#Create test reviews table in lab\n",
    "cur.execute('create table lab.review (uuid uuid NOT NULL DEFAULT uuid_generate_v4(), review_id character varying COLLATE pg_catalog.\"default\", business_id character varying COLLATE pg_catalog.\"default\", user_id character varying COLLATE pg_catalog.\"default\", stars double precision, datetime timestamp without time zone, date date, time time without time zone, text character varying COLLATE pg_catalog.\"default\", timestamp timestamp with time zone, data_source smallint)')"
   ]
  },
  {
   "cell_type": "code",
   "execution_count": null,
   "metadata": {},
   "outputs": [],
   "source": [
    "#Create test yelp_scraping table in lab\n",
    "cur.execute('create table lab.yelp_scraping (uuid uuid NOT NULL DEFAULT uuid_generate_v4(), review_id character varying COLLATE pg_catalog.\"default\", business_id character varying COLLATE pg_catalog.\"default\", user_id character varying COLLATE pg_catalog.\"default\", stars double precision, datetime timestamp without time zone, date date, time time without time zone, text character varying COLLATE pg_catalog.\"default\", timestamp timestamp with time zone)')"
   ]
  },
  {
   "cell_type": "code",
   "execution_count": null,
   "metadata": {},
   "outputs": [],
   "source": [
    "#Create test ds_vizdata table in lab\n",
    "cur.execute('create table lab.ds_vizdata (uuid uuid NOT NULL DEFAULT uuid_generate_v4(), business_id character varying COLLATE pg_catalog.\"default\", \"timestamp\" timestamp with time zone, viztype smallint, vizdata character varying COLLATE pg_catalog.\"default\")')"
   ]
  }
 ],
 "metadata": {
  "kernelspec": {
   "display_name": "Python 3",
   "language": "python",
   "name": "python3"
  },
  "language_info": {
   "codemirror_mode": {
    "name": "ipython",
    "version": 3
   },
   "file_extension": ".py",
   "mimetype": "text/x-python",
   "name": "python",
   "nbconvert_exporter": "python",
   "pygments_lexer": "ipython3",
   "version": "3.7.4"
  }
 },
 "nbformat": 4,
 "nbformat_minor": 4
}
