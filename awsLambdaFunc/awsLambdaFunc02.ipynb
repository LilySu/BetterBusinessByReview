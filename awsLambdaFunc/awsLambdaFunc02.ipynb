{
 "cells": [
  {
   "cell_type": "code",
   "execution_count": 19,
   "metadata": {},
   "outputs": [],
   "source": [
    "# !conda install -y -c anaconda psycopg2"
   ]
  },
  {
   "cell_type": "code",
   "execution_count": 41,
   "metadata": {},
   "outputs": [],
   "source": [
    "from requests import Session\n",
    "from lxml import html\n",
    "from datetime import datetime\n",
    "import time\n",
    "import random\n",
    "def yelpScraper(business_id):\n",
    "    base_url = \"https://www.yelp.com/biz/\" # add business id\n",
    "    api_url = \"/review_feed?sort_by=date_desc&start=\" # add number\n",
    "    results = []\n",
    "    for n in range(1):\n",
    "        with Session() as s:\n",
    "            url = base_url + business_id + api_url + str(n*20)    \n",
    "            with s.get(url, timeout=5) as r:    \n",
    "                if r.status_code==200:\n",
    "                    response = dict(r.json()) \n",
    "                    _html = html.fromstring(response['review_list']) \n",
    "                    dates = _html.xpath(\"//div[@class='review-content']/descendant::span[@class='rating-qualifier']/text()\")\n",
    "                    dates = [datetime.strptime(d.strip(), format(\"%m/%d/%Y\")) for d in dates]\n",
    "                    stars = _html.xpath(\"//div[@class='review-content']/descendant::div[@class='biz-rating__stars']/div/@title\")\n",
    "                    stars = [float(s.split(' ')[0]) for s in stars]\n",
    "                    texts = [e.text for e in _html.xpath(\"//div[@class='review-content']/p\")]\n",
    "                    results = results + [[date, star, text] for date, star, text in zip(dates, stars, texts)]\n",
    "        time.sleep(random.uniform(0.1, 0.5))    \n",
    "    return results"
   ]
  },
  {
   "cell_type": "code",
   "execution_count": 42,
   "metadata": {},
   "outputs": [],
   "source": [
    "results = yelpScraper(\"jga_2HO_j4I7tSYf5cCEnQ\")"
   ]
  },
  {
   "cell_type": "code",
   "execution_count": 24,
   "metadata": {},
   "outputs": [],
   "source": [
    "# assign a letter for each iteration of review\n",
    "from requests import Session\n",
    "from lxml import html\n",
    "from datetime import datetime\n",
    "import time\n",
    "import random\n",
    "def yelpScraper(business_id):\n",
    "    base_url = \"https://www.yelp.com/biz/\" # add business id\n",
    "    api_url = \"/review_feed?sort_by=date_desc&start=\" # add number\n",
    "    results = []\n",
    "    for n in range(1):\n",
    "        with Session() as s:\n",
    "            url = base_url + business_id + api_url + str(n*20)    \n",
    "            with s.get(url, timeout=5) as r:    \n",
    "                if r.status_code==200:\n",
    "                    response = dict(r.json()) \n",
    "                    _html = html.fromstring(response['review_list']) \n",
    "                    dates = _html.xpath(\"//div[@class='review-content']/descendant::span[@class='rating-qualifier']/text()\")\n",
    "                    dates = [datetime.strptime(d.strip(), format(\"%m/%d/%Y\")) for d in dates]\n",
    "                    stars = _html.xpath(\"//div[@class='review-content']/descendant::div[@class='biz-rating__stars']/div/@title\")\n",
    "                    stars = [float(s.split(' ')[0]) for s in stars]\n",
    "                    texts = [e.text for e in _html.xpath(\"//div[@class='review-content']/p\")]\n",
    "                    results = results + [[date, star, text] for date, star, text in zip(dates, stars, texts)]\n",
    "        time.sleep(random.uniform(0.1, 0.5))  \n",
    "    return results\n",
    "results = yelpScraper(\"jga_2HO_j4I7tSYf5cCEnQ\")"
   ]
  },
  {
   "cell_type": "code",
   "execution_count": 25,
   "metadata": {},
   "outputs": [
    {
     "data": {
      "text/plain": [
       "[[datetime.datetime(2019, 11, 25, 0, 0),\n",
       "  3.0,\n",
       "  'So when I was a kid I always had a cat. Today.....I wanted to be with my inner child so, we went to play with the kitty cats. $10 an hour to give these adorable furry friends some TLC until they get adopted. Support this place. * I feel $5 is more reasonable, (especially for kids)'],\n",
       " [datetime.datetime(2019, 11, 12, 0, 0),\n",
       "  5.0,\n",
       "  'Love this place! We have been probably 6 or 7 times! Every time that we have gone during the week its been awesome and alot quieter. We went this past weekend and i honestly felt that there were waaaaay too many people in there at one time, including like 5 or 6 children and more coming. It was a bit over whelming for us, and im sure for the kitties too! But anyway, this place is amazing and highly recommend that you stop by!'],\n",
       " [datetime.datetime(2019, 10, 13, 0, 0),\n",
       "  5.0,\n",
       "  \"This is such a neat concept! Visit with, play, and groom sweet kitties looking for their forever homes. I took my kids, aged 10 and 5 and they loved it!! Needed some new toys and brush replacements but I am sure they would love donations. They also have a small boutique we shopped in. Overall great experience and we would definitely return. They've adopted out 200 plus cats from the lounge already!\"],\n",
       " [datetime.datetime(2019, 9, 6, 0, 0),\n",
       "  5.0,\n",
       "  \"Super fun w the kitties s d the drag queens and the bingo. \\xa0I will def go back for 70's night\"],\n",
       " [datetime.datetime(2019, 8, 6, 0, 0),\n",
       "  3.0,\n",
       "  'The cats are adorable and we had such a fun time playing with them. \\xa0However, it was very hot inside and obviously just smelled like cats. \\xa0Overall I like the idea, but the decor is lacking and the pricing is a bit steep just to hang out with some cats...'],\n",
       " [datetime.datetime(2019, 7, 23, 0, 0),\n",
       "  5.0,\n",
       "  \"This place is a great concept. You basically pay $10 and get to spend an hour lounging around and petting cats. It's a wonderful way for some sweet cats to get exposure to be adopted. \\xa0I'm sure they can only have cats with milder temperaments that will get along with each other as well as humans, but those guys deserve a good home. So far, they have adopted out over 300 cats. They do sell some bottled water and other cold beverages from a cooler, but that is it as far as food and drinks are concerned. \\xa0I would definitely come back here with other animal lovers to enjoy the cats.\"],\n",
       " [datetime.datetime(2019, 7, 7, 0, 0), 5.0, 'Loved this place! '],\n",
       " [datetime.datetime(2019, 5, 15, 0, 0),\n",
       "  5.0,\n",
       "  \"We have experienced La Gattara several times with our most recent visit on Mother's Day. \\xa0They hosted a paint night event during which we were instructed on how to paint our own cat pictures. \\xa0All painting materials and instruction were included in the cost. \\xa0The instructor did an awesome job engaging the group and making the entire experience so much fun. \\xa0All of that aside, the main purpose of La Gattara is to help place rescued and fostered kitties into permanent, loving homes. \\xa0Missy (the owner) is an absolute saint dedicated to giving these animals a wonderful life filled with good health and so much love. \\xa0You can go hang out and visit all of the cats which is exactly what we did for about an hour prior to the painting event. \\xa0These kitties are love being pet, playing with toys and receiving an occasional little treat. \\xa0During the event they walked around near the easels, sit on nearby tables and shelves and simply enjoyed the interaction with guests. \\xa0If you like cats this place is a must visit! \\xa0I highly recommend stopping in for cuddle time with a kitty or one of their fun scheduled events like painting or a yoga class.\"],\n",
       " [datetime.datetime(2019, 4, 15, 0, 0),\n",
       "  5.0,\n",
       "  \"This place was so welcoming and fun! I had a wonderful conversation with the owner and she \\xa0is a wonderful human doing amazing work. \\xa0A cool place to just chill and enjoy the presence of cats and cuddle with them if they want. Make sure that you respect the cats autonomy and let them sniff you before you pet them. They are all so sweet and lovely little floofs. What you pay for time with the cats serves the cause of fostering and adopting cats, such important work! If you want to interact with animals, go to a place like this instead of a marine park or zoo where the animals are abused and treated without compassion and with cruelty. I couldn't recommend this place enough! If I lived nearby, I would visit all the time!\"],\n",
       " [datetime.datetime(2019, 4, 11, 0, 0),\n",
       "  5.0,\n",
       "  'this place. missy has done such a fabulous job of combining her love for cats and also helping community shelters adopt kitties to loving homes. Even if you cannot adopt a cat the lounge is a good place to just chill and get some cat loving.'],\n",
       " [datetime.datetime(2019, 4, 10, 0, 0),\n",
       "  5.0,\n",
       "  'My friend and I came here on a whim one night. It was packed and we had to wait outside while people from the last time slot were clearing out. Once we got in, we were greeted by cats who were kinda just sitting there (what do you expect?) There was a lot of seating areas, on the floor and comfy nooks with cute aesthetics. There were a multitude of cat toys you could play with the cats. There were also some books you could read during your stay there. I believe there was also internet there so if you wanted to come spend a few hour studying with cats around you, this would be a good place to go. They had some refreshments also however I was more interested in the cats. I do believe they have special nights where they have some events planned (a movie night, I believe) You can also adopt a cat if you feel a special bond to them. They even have a special board set up showcasing all the cats that were adopted from the cat café. Highly recommend! The place was super cute and comfy and all around an enjoyable experience.'],\n",
       " [datetime.datetime(2019, 3, 8, 0, 0),\n",
       "  5.0,\n",
       "  \"Went to the lounge last week and it was great ! We were the only customers for most of our time there. Most of the cats were tired of attention, but that's just how cats are sometimes. The owner, I believe, was working while we visited and she chatted with us for a bit. It was clear how much she cares about these cats-- though just a glance around the room could tell you that much, it was a cat paradise. I'm glad these kitties are in good hands while they wait for their new parents to find them !!\"],\n",
       " [datetime.datetime(2019, 3, 5, 0, 0),\n",
       "  5.0,\n",
       "  'Super chill place to get some kitty love. Refreshments, coloring table, kid friendly, adoptable cats!!'],\n",
       " [datetime.datetime(2019, 2, 24, 0, 0),\n",
       "  5.0,\n",
       "  'I love this place. The owner is truly passionate about her mission. Hundreds of cats have been given a 2nd change. The environment is so great. Cats hanging around everywhere while you play bingo or just stop by to get some cuddles. I love that they have events. Such a great place.'],\n",
       " [datetime.datetime(2019, 1, 23, 0, 0),\n",
       "  2.0,\n",
       "  'This was the weird experience ever..'],\n",
       " [datetime.datetime(2019, 1, 8, 0, 0),\n",
       "  1.0,\n",
       "  \"I made a reservation and pre-paid for my reservation. However, I was not able to make it that day and emailed the company to let them know that I will not be able to make it and that I would like a refund. No one ever got back to me and I never got a refund. That's just bad business.\"],\n",
       " [datetime.datetime(2018, 12, 10, 0, 0),\n",
       "  5.0,\n",
       "  'Stopped in to see what this place is all about and I am so happy we did. Took my daughter who loves cats as much as me and we had a great time. Lots of cats to play with and was given treats to feed the kitties :)'],\n",
       " [datetime.datetime(2018, 11, 28, 0, 0),\n",
       "  5.0,\n",
       "  'Was visiting Phoenix for the holidays and happened to see a cat cafe in the area. I volunteer at the one by my house so I was excited to see how this one was. '],\n",
       " [datetime.datetime(2018, 11, 25, 0, 0),\n",
       "  5.0,\n",
       "  'I came a day where the ac was broken and she was so nice and let us in for free since it was hot :)'],\n",
       " [datetime.datetime(2018, 10, 7, 0, 0),\n",
       "  5.0,\n",
       "  'This place is a haven for rescued cats. Toys, beds, shelves, cubbies, blankets, scratching posts, and rugs everywhere. It\\'s a pretty decent sized space too. The employee at the time of our visit was super nice and sweet, explained the \"terms and conditions\" to us and made us feel so welcomed. You can tell all the feline residents there felt safe and cared for without a doubt. They were all so friendly and relaxed. The atmosphere and ambiance made it so easy to freely roam around get to know the residents. If I didnt already have 3 cats, I would have definitely fallen prey to being suckered by at least 4 of the current residents there. I wanted to support them and what they\\'re doing, and after visiting, I cannot wait to spread the word about them to other animal lovers and am counting down the days til I can come visit once more.']]"
      ]
     },
     "execution_count": 25,
     "metadata": {},
     "output_type": "execute_result"
    }
   ],
   "source": [
    "results"
   ]
  },
  {
   "cell_type": "code",
   "execution_count": 23,
   "metadata": {},
   "outputs": [
    {
     "name": "stdout",
     "output_type": "stream",
     "text": [
      "3.0\n",
      "<class 'float'>\n",
      "5.0\n",
      "<class 'float'>\n",
      "5.0\n",
      "<class 'float'>\n",
      "5.0\n",
      "<class 'float'>\n",
      "3.0\n",
      "<class 'float'>\n",
      "5.0\n",
      "<class 'float'>\n",
      "5.0\n",
      "<class 'float'>\n",
      "5.0\n",
      "<class 'float'>\n",
      "5.0\n",
      "<class 'float'>\n",
      "5.0\n",
      "<class 'float'>\n",
      "5.0\n",
      "<class 'float'>\n",
      "5.0\n",
      "<class 'float'>\n",
      "5.0\n",
      "<class 'float'>\n",
      "5.0\n",
      "<class 'float'>\n",
      "2.0\n",
      "<class 'float'>\n",
      "1.0\n",
      "<class 'float'>\n",
      "5.0\n",
      "<class 'float'>\n",
      "5.0\n",
      "<class 'float'>\n",
      "5.0\n",
      "<class 'float'>\n",
      "5.0\n",
      "<class 'float'>\n"
     ]
    }
   ],
   "source": [
    "for i in results:\n",
    "    x = i[0]\n",
    "    y = i[1]\n",
    "    z = i[2]\n",
    "    print(y)\n",
    "    print(type(y))\n",
    "# type(z)\n",
    "    \n"
   ]
  },
  {
   "cell_type": "code",
   "execution_count": 6,
   "metadata": {},
   "outputs": [
    {
     "name": "stdout",
     "output_type": "stream",
     "text": [
      "2018-10-07\n"
     ]
    }
   ],
   "source": [
    "print(x.strftime(\"%Y-%m-%d\"))"
   ]
  },
  {
   "cell_type": "code",
   "execution_count": 40,
   "metadata": {},
   "outputs": [
    {
     "name": "stdout",
     "output_type": "stream",
     "text": [
      "[datetime.datetime(2019, 11, 25, 0, 0), 3.0, 'So when I was a kid I always had a cat. Today.....I wanted to be with my inner child so, we went to play with the kitty cats. $10 an hour to give these adorable furry friends some TLC until they get adopted. Support this place. * I feel $5 is more reasonable, (especially for kids)']\n",
      "[datetime.datetime(2019, 11, 12, 0, 0), 5.0, 'Love this place! We have been probably 6 or 7 times! Every time that we have gone during the week its been awesome and alot quieter. We went this past weekend and i honestly felt that there were waaaaay too many people in there at one time, including like 5 or 6 children and more coming. It was a bit over whelming for us, and im sure for the kitties too! But anyway, this place is amazing and highly recommend that you stop by!']\n",
      "[datetime.datetime(2019, 10, 13, 0, 0), 5.0, \"This is such a neat concept! Visit with, play, and groom sweet kitties looking for their forever homes. I took my kids, aged 10 and 5 and they loved it!! Needed some new toys and brush replacements but I am sure they would love donations. They also have a small boutique we shopped in. Overall great experience and we would definitely return. They've adopted out 200 plus cats from the lounge already!\"]\n",
      "[datetime.datetime(2019, 9, 6, 0, 0), 5.0, \"Super fun w the kitties s d the drag queens and the bingo. \\xa0I will def go back for 70's night\"]\n",
      "[datetime.datetime(2019, 8, 6, 0, 0), 3.0, 'The cats are adorable and we had such a fun time playing with them. \\xa0However, it was very hot inside and obviously just smelled like cats. \\xa0Overall I like the idea, but the decor is lacking and the pricing is a bit steep just to hang out with some cats...']\n",
      "[datetime.datetime(2019, 7, 23, 0, 0), 5.0, \"This place is a great concept. You basically pay $10 and get to spend an hour lounging around and petting cats. It's a wonderful way for some sweet cats to get exposure to be adopted. \\xa0I'm sure they can only have cats with milder temperaments that will get along with each other as well as humans, but those guys deserve a good home. So far, they have adopted out over 300 cats. They do sell some bottled water and other cold beverages from a cooler, but that is it as far as food and drinks are concerned. \\xa0I would definitely come back here with other animal lovers to enjoy the cats.\"]\n",
      "[datetime.datetime(2019, 7, 7, 0, 0), 5.0, 'Loved this place! ']\n",
      "[datetime.datetime(2019, 5, 15, 0, 0), 5.0, \"We have experienced La Gattara several times with our most recent visit on Mother's Day. \\xa0They hosted a paint night event during which we were instructed on how to paint our own cat pictures. \\xa0All painting materials and instruction were included in the cost. \\xa0The instructor did an awesome job engaging the group and making the entire experience so much fun. \\xa0All of that aside, the main purpose of La Gattara is to help place rescued and fostered kitties into permanent, loving homes. \\xa0Missy (the owner) is an absolute saint dedicated to giving these animals a wonderful life filled with good health and so much love. \\xa0You can go hang out and visit all of the cats which is exactly what we did for about an hour prior to the painting event. \\xa0These kitties are love being pet, playing with toys and receiving an occasional little treat. \\xa0During the event they walked around near the easels, sit on nearby tables and shelves and simply enjoyed the interaction with guests. \\xa0If you like cats this place is a must visit! \\xa0I highly recommend stopping in for cuddle time with a kitty or one of their fun scheduled events like painting or a yoga class.\"]\n",
      "[datetime.datetime(2019, 4, 15, 0, 0), 5.0, \"This place was so welcoming and fun! I had a wonderful conversation with the owner and she \\xa0is a wonderful human doing amazing work. \\xa0A cool place to just chill and enjoy the presence of cats and cuddle with them if they want. Make sure that you respect the cats autonomy and let them sniff you before you pet them. They are all so sweet and lovely little floofs. What you pay for time with the cats serves the cause of fostering and adopting cats, such important work! If you want to interact with animals, go to a place like this instead of a marine park or zoo where the animals are abused and treated without compassion and with cruelty. I couldn't recommend this place enough! If I lived nearby, I would visit all the time!\"]\n",
      "[datetime.datetime(2019, 4, 11, 0, 0), 5.0, 'this place. missy has done such a fabulous job of combining her love for cats and also helping community shelters adopt kitties to loving homes. Even if you cannot adopt a cat the lounge is a good place to just chill and get some cat loving.']\n",
      "[datetime.datetime(2019, 4, 10, 0, 0), 5.0, 'My friend and I came here on a whim one night. It was packed and we had to wait outside while people from the last time slot were clearing out. Once we got in, we were greeted by cats who were kinda just sitting there (what do you expect?) There was a lot of seating areas, on the floor and comfy nooks with cute aesthetics. There were a multitude of cat toys you could play with the cats. There were also some books you could read during your stay there. I believe there was also internet there so if you wanted to come spend a few hour studying with cats around you, this would be a good place to go. They had some refreshments also however I was more interested in the cats. I do believe they have special nights where they have some events planned (a movie night, I believe) You can also adopt a cat if you feel a special bond to them. They even have a special board set up showcasing all the cats that were adopted from the cat café. Highly recommend! The place was super cute and comfy and all around an enjoyable experience.']\n",
      "[datetime.datetime(2019, 3, 8, 0, 0), 5.0, \"Went to the lounge last week and it was great ! We were the only customers for most of our time there. Most of the cats were tired of attention, but that's just how cats are sometimes. The owner, I believe, was working while we visited and she chatted with us for a bit. It was clear how much she cares about these cats-- though just a glance around the room could tell you that much, it was a cat paradise. I'm glad these kitties are in good hands while they wait for their new parents to find them !!\"]\n",
      "[datetime.datetime(2019, 3, 5, 0, 0), 5.0, 'Super chill place to get some kitty love. Refreshments, coloring table, kid friendly, adoptable cats!!']\n",
      "[datetime.datetime(2019, 2, 24, 0, 0), 5.0, 'I love this place. The owner is truly passionate about her mission. Hundreds of cats have been given a 2nd change. The environment is so great. Cats hanging around everywhere while you play bingo or just stop by to get some cuddles. I love that they have events. Such a great place.']\n",
      "[datetime.datetime(2019, 1, 23, 0, 0), 2.0, 'This was the weird experience ever..']\n",
      "[datetime.datetime(2019, 1, 8, 0, 0), 1.0, \"I made a reservation and pre-paid for my reservation. However, I was not able to make it that day and emailed the company to let them know that I will not be able to make it and that I would like a refund. No one ever got back to me and I never got a refund. That's just bad business.\"]\n",
      "[datetime.datetime(2018, 12, 10, 0, 0), 5.0, 'Stopped in to see what this place is all about and I am so happy we did. Took my daughter who loves cats as much as me and we had a great time. Lots of cats to play with and was given treats to feed the kitties :)']\n",
      "[datetime.datetime(2018, 11, 28, 0, 0), 5.0, 'Was visiting Phoenix for the holidays and happened to see a cat cafe in the area. I volunteer at the one by my house so I was excited to see how this one was. ']\n",
      "[datetime.datetime(2018, 11, 25, 0, 0), 5.0, 'I came a day where the ac was broken and she was so nice and let us in for free since it was hot :)']\n",
      "[datetime.datetime(2018, 10, 7, 0, 0), 5.0, 'This place is a haven for rescued cats. Toys, beds, shelves, cubbies, blankets, scratching posts, and rugs everywhere. It\\'s a pretty decent sized space too. The employee at the time of our visit was super nice and sweet, explained the \"terms and conditions\" to us and made us feel so welcomed. You can tell all the feline residents there felt safe and cared for without a doubt. They were all so friendly and relaxed. The atmosphere and ambiance made it so easy to freely roam around get to know the residents. If I didnt already have 3 cats, I would have definitely fallen prey to being suckered by at least 4 of the current residents there. I wanted to support them and what they\\'re doing, and after visiting, I cannot wait to spread the word about them to other animal lovers and am counting down the days til I can come visit once more.']\n"
     ]
    },
    {
     "ename": "IndexError",
     "evalue": "tuple index out of range",
     "output_type": "error",
     "traceback": [
      "\u001b[1;31m---------------------------------------------------------------------------\u001b[0m",
      "\u001b[1;31mIndexError\u001b[0m                                Traceback (most recent call last)",
      "\u001b[1;32m<ipython-input-40-b13f465e02db>\u001b[0m in \u001b[0;36m<module>\u001b[1;34m\u001b[0m\n\u001b[0;32m      3\u001b[0m \u001b[1;32mfor\u001b[0m \u001b[0mi\u001b[0m \u001b[1;32min\u001b[0m \u001b[0mcontent\u001b[0m\u001b[1;33m:\u001b[0m\u001b[1;33m\u001b[0m\u001b[1;33m\u001b[0m\u001b[0m\n\u001b[0;32m      4\u001b[0m     \u001b[1;32mfor\u001b[0m \u001b[0mreview\u001b[0m \u001b[1;32min\u001b[0m \u001b[0mitertools\u001b[0m\u001b[1;33m.\u001b[0m\u001b[0mproduct\u001b[0m\u001b[1;33m(\u001b[0m\u001b[0mresults\u001b[0m\u001b[1;33m)\u001b[0m\u001b[1;33m:\u001b[0m\u001b[1;33m\u001b[0m\u001b[1;33m\u001b[0m\u001b[0m\n\u001b[1;32m----> 5\u001b[1;33m         \u001b[0mprint\u001b[0m\u001b[1;33m(\u001b[0m\u001b[0mreview\u001b[0m\u001b[1;33m[\u001b[0m\u001b[0mi\u001b[0m\u001b[1;33m]\u001b[0m\u001b[1;33m)\u001b[0m\u001b[1;33m\u001b[0m\u001b[1;33m\u001b[0m\u001b[0m\n\u001b[0m",
      "\u001b[1;31mIndexError\u001b[0m: tuple index out of range"
     ]
    }
   ],
   "source": [
    "import itertools\n",
    "content = [0,1,2]\n",
    "for i in content:    \n",
    "    for review in itertools.product(results):\n",
    "        print(review[i])"
   ]
  },
  {
   "cell_type": "code",
   "execution_count": 39,
   "metadata": {},
   "outputs": [
    {
     "name": "stdout",
     "output_type": "stream",
     "text": [
      "[datetime.datetime(2019, 11, 25, 0, 0), datetime.datetime(2019, 11, 12, 0, 0), datetime.datetime(2019, 10, 13, 0, 0), datetime.datetime(2019, 9, 6, 0, 0), datetime.datetime(2019, 8, 6, 0, 0), datetime.datetime(2019, 7, 23, 0, 0), datetime.datetime(2019, 7, 7, 0, 0), datetime.datetime(2019, 5, 15, 0, 0), datetime.datetime(2019, 4, 15, 0, 0), datetime.datetime(2019, 4, 11, 0, 0), datetime.datetime(2019, 4, 10, 0, 0), datetime.datetime(2019, 3, 8, 0, 0), datetime.datetime(2019, 3, 5, 0, 0), datetime.datetime(2019, 2, 24, 0, 0), datetime.datetime(2019, 1, 23, 0, 0), datetime.datetime(2019, 1, 8, 0, 0), datetime.datetime(2018, 12, 10, 0, 0), datetime.datetime(2018, 11, 28, 0, 0), datetime.datetime(2018, 11, 25, 0, 0), datetime.datetime(2018, 10, 7, 0, 0)]\n",
      "[3.0, 5.0, 5.0, 5.0, 3.0, 5.0, 5.0, 5.0, 5.0, 5.0, 5.0, 5.0, 5.0, 5.0, 2.0, 1.0, 5.0, 5.0, 5.0, 5.0]\n",
      "['So when I was a kid I always had a cat. Today.....I wanted to be with my inner child so, we went to play with the kitty cats. $10 an hour to give these adorable furry friends some TLC until they get adopted. Support this place. * I feel $5 is more reasonable, (especially for kids)', 'Love this place! We have been probably 6 or 7 times! Every time that we have gone during the week its been awesome and alot quieter. We went this past weekend and i honestly felt that there were waaaaay too many people in there at one time, including like 5 or 6 children and more coming. It was a bit over whelming for us, and im sure for the kitties too! But anyway, this place is amazing and highly recommend that you stop by!', \"This is such a neat concept! Visit with, play, and groom sweet kitties looking for their forever homes. I took my kids, aged 10 and 5 and they loved it!! Needed some new toys and brush replacements but I am sure they would love donations. They also have a small boutique we shopped in. Overall great experience and we would definitely return. They've adopted out 200 plus cats from the lounge already!\", \"Super fun w the kitties s d the drag queens and the bingo. \\xa0I will def go back for 70's night\", 'The cats are adorable and we had such a fun time playing with them. \\xa0However, it was very hot inside and obviously just smelled like cats. \\xa0Overall I like the idea, but the decor is lacking and the pricing is a bit steep just to hang out with some cats...', \"This place is a great concept. You basically pay $10 and get to spend an hour lounging around and petting cats. It's a wonderful way for some sweet cats to get exposure to be adopted. \\xa0I'm sure they can only have cats with milder temperaments that will get along with each other as well as humans, but those guys deserve a good home. So far, they have adopted out over 300 cats. They do sell some bottled water and other cold beverages from a cooler, but that is it as far as food and drinks are concerned. \\xa0I would definitely come back here with other animal lovers to enjoy the cats.\", 'Loved this place! ', \"We have experienced La Gattara several times with our most recent visit on Mother's Day. \\xa0They hosted a paint night event during which we were instructed on how to paint our own cat pictures. \\xa0All painting materials and instruction were included in the cost. \\xa0The instructor did an awesome job engaging the group and making the entire experience so much fun. \\xa0All of that aside, the main purpose of La Gattara is to help place rescued and fostered kitties into permanent, loving homes. \\xa0Missy (the owner) is an absolute saint dedicated to giving these animals a wonderful life filled with good health and so much love. \\xa0You can go hang out and visit all of the cats which is exactly what we did for about an hour prior to the painting event. \\xa0These kitties are love being pet, playing with toys and receiving an occasional little treat. \\xa0During the event they walked around near the easels, sit on nearby tables and shelves and simply enjoyed the interaction with guests. \\xa0If you like cats this place is a must visit! \\xa0I highly recommend stopping in for cuddle time with a kitty or one of their fun scheduled events like painting or a yoga class.\", \"This place was so welcoming and fun! I had a wonderful conversation with the owner and she \\xa0is a wonderful human doing amazing work. \\xa0A cool place to just chill and enjoy the presence of cats and cuddle with them if they want. Make sure that you respect the cats autonomy and let them sniff you before you pet them. They are all so sweet and lovely little floofs. What you pay for time with the cats serves the cause of fostering and adopting cats, such important work! If you want to interact with animals, go to a place like this instead of a marine park or zoo where the animals are abused and treated without compassion and with cruelty. I couldn't recommend this place enough! If I lived nearby, I would visit all the time!\", 'this place. missy has done such a fabulous job of combining her love for cats and also helping community shelters adopt kitties to loving homes. Even if you cannot adopt a cat the lounge is a good place to just chill and get some cat loving.', 'My friend and I came here on a whim one night. It was packed and we had to wait outside while people from the last time slot were clearing out. Once we got in, we were greeted by cats who were kinda just sitting there (what do you expect?) There was a lot of seating areas, on the floor and comfy nooks with cute aesthetics. There were a multitude of cat toys you could play with the cats. There were also some books you could read during your stay there. I believe there was also internet there so if you wanted to come spend a few hour studying with cats around you, this would be a good place to go. They had some refreshments also however I was more interested in the cats. I do believe they have special nights where they have some events planned (a movie night, I believe) You can also adopt a cat if you feel a special bond to them. They even have a special board set up showcasing all the cats that were adopted from the cat café. Highly recommend! The place was super cute and comfy and all around an enjoyable experience.', \"Went to the lounge last week and it was great ! We were the only customers for most of our time there. Most of the cats were tired of attention, but that's just how cats are sometimes. The owner, I believe, was working while we visited and she chatted with us for a bit. It was clear how much she cares about these cats-- though just a glance around the room could tell you that much, it was a cat paradise. I'm glad these kitties are in good hands while they wait for their new parents to find them !!\", 'Super chill place to get some kitty love. Refreshments, coloring table, kid friendly, adoptable cats!!', 'I love this place. The owner is truly passionate about her mission. Hundreds of cats have been given a 2nd change. The environment is so great. Cats hanging around everywhere while you play bingo or just stop by to get some cuddles. I love that they have events. Such a great place.', 'This was the weird experience ever..', \"I made a reservation and pre-paid for my reservation. However, I was not able to make it that day and emailed the company to let them know that I will not be able to make it and that I would like a refund. No one ever got back to me and I never got a refund. That's just bad business.\", 'Stopped in to see what this place is all about and I am so happy we did. Took my daughter who loves cats as much as me and we had a great time. Lots of cats to play with and was given treats to feed the kitties :)', 'Was visiting Phoenix for the holidays and happened to see a cat cafe in the area. I volunteer at the one by my house so I was excited to see how this one was. ', 'I came a day where the ac was broken and she was so nice and let us in for free since it was hot :)', 'This place is a haven for rescued cats. Toys, beds, shelves, cubbies, blankets, scratching posts, and rugs everywhere. It\\'s a pretty decent sized space too. The employee at the time of our visit was super nice and sweet, explained the \"terms and conditions\" to us and made us feel so welcomed. You can tell all the feline residents there felt safe and cared for without a doubt. They were all so friendly and relaxed. The atmosphere and ambiance made it so easy to freely roam around get to know the residents. If I didnt already have 3 cats, I would have definitely fallen prey to being suckered by at least 4 of the current residents there. I wanted to support them and what they\\'re doing, and after visiting, I cannot wait to spread the word about them to other animal lovers and am counting down the days til I can come visit once more.']\n"
     ]
    }
   ],
   "source": [
    "content = [0,1,2]\n",
    "for i in content:\n",
    "    print([item[i] for item in results])"
   ]
  },
  {
   "cell_type": "code",
   "execution_count": 36,
   "metadata": {},
   "outputs": [
    {
     "ename": "SyntaxError",
     "evalue": "invalid syntax (<ipython-input-36-54042ca8b3c8>, line 1)",
     "output_type": "error",
     "traceback": [
      "\u001b[1;36m  File \u001b[1;32m\"<ipython-input-36-54042ca8b3c8>\"\u001b[1;36m, line \u001b[1;32m1\u001b[0m\n\u001b[1;33m    reviewInResults = 0:\u001b[0m\n\u001b[1;37m                       ^\u001b[0m\n\u001b[1;31mSyntaxError\u001b[0m\u001b[1;31m:\u001b[0m invalid syntax\n"
     ]
    }
   ],
   "source": [
    "# reviewInResults = 0:\n",
    "# while reviewInResults < len(results):\n",
    "#     reviewInResults\n",
    "#     reviewInResults+= 1\n",
    "    "
   ]
  },
  {
   "cell_type": "code",
   "execution_count": 65,
   "metadata": {},
   "outputs": [
    {
     "data": {
      "text/plain": [
       "'Added 2170 items from RDS postGreSQL table'"
      ]
     },
     "execution_count": 65,
     "metadata": {},
     "output_type": "execute_result"
    }
   ],
   "source": [
    "import sys\n",
    "import logging\n",
    "import psycopg2\n",
    "#rds settings\n",
    "rds_host  = \"database-spotifier.c5eevkz7wazj.us-east-2.rds.amazonaws.com\"\n",
    "name = \"tally_ds\" \n",
    "db_name = \"postgres\" \n",
    "password = \"P@ssw0rd\"\n",
    "\n",
    "\n",
    "logger = logging.getLogger()\n",
    "logger.setLevel(logging.INFO)\n",
    "\n",
    "try:\n",
    "    conn = psycopg2.connect(host=rds_host, user=name, password=password, database=db_name, port=5432, connect_timeout=5)\n",
    "except psycopg2.OperationalError as e:\n",
    "    logger.error(\"ERROR: Unexpected error: Could not connect to postGreSQL instance.\")\n",
    "    logger.error(e)\n",
    "    sys.exit()\n",
    "\n",
    "logger.info(\"SUCCESS: Connection to RDS postGreSQL instance succeeded\")\n",
    "\n",
    "\n",
    "def yelpScraper(business_id):\n",
    "    base_url = \"https://www.yelp.com/biz/\" # add business id\n",
    "    api_url = \"/review_feed?sort_by=date_desc&start=\" # add number\n",
    "    results = []\n",
    "    for n in range(1):\n",
    "        with Session() as s:\n",
    "            url = base_url + business_id + api_url + str(n*20)    \n",
    "            with s.get(url, timeout=5) as r:    \n",
    "                if r.status_code==200:\n",
    "                    response = dict(r.json()) \n",
    "                    _html = html.fromstring(response['review_list']) \n",
    "                    dates = _html.xpath(\"//div[@class='review-content']/descendant::span[@class='rating-qualifier']/text()\")\n",
    "                    dates = [datetime.strptime(d.strip(), format(\"%m/%d/%Y\")) for d in dates]\n",
    "                    stars = _html.xpath(\"//div[@class='review-content']/descendant::div[@class='biz-rating__stars']/div/@title\")\n",
    "                    stars = [float(s.split(' ')[0]) for s in stars]\n",
    "                    texts = [e.text for e in _html.xpath(\"//div[@class='review-content']/p\")]\n",
    "                    results = results + [[date, star, text] for date, star, text in zip(dates, stars, texts)]\n",
    "        time.sleep(random.uniform(0.1, 0.5))\n",
    "    return results\n",
    "def dbConnect(results):\n",
    "    item_count = 0\n",
    "    with conn.cursor() as cur:\n",
    "        for i in results:\n",
    "            x = i[0]\n",
    "            y = i[1]\n",
    "            z = i[2][:18]#\n",
    "            cur.execute('INSERT INTO lab.receipt (receipt_date, origin, destination) VALUES (%s, %s, %s)', (x, y, z))\n",
    "\n",
    "            conn.commit()\n",
    "            cur.execute(\"select * from lab.receipt\")\n",
    "            for row in cur:\n",
    "                item_count += 1\n",
    "                logger.info(row)\n",
    "        conn.commit()\n",
    "    return \"Added %d items from RDS postGreSQL table\" %(item_count)\n",
    "    \n",
    "# def lambda_handler(event, context):\n",
    "#     yelpScraper(\"jga_2HO_j4I7tSYf5cCEnQ\")\n",
    "#     dbConnect()\n",
    "#     return \"it worked\"\n",
    "\n",
    "results = yelpScraper(\"jga_2HO_j4I7tSYf5cCEnQ\")\n",
    "dbConnect(results)"
   ]
  },
  {
   "cell_type": "code",
   "execution_count": 66,
   "metadata": {},
   "outputs": [
    {
     "name": "stdout",
     "output_type": "stream",
     "text": [
      "(73, 6)\n"
     ]
    },
    {
     "data": {
      "text/html": [
       "<div>\n",
       "<style scoped>\n",
       "    .dataframe tbody tr th:only-of-type {\n",
       "        vertical-align: middle;\n",
       "    }\n",
       "\n",
       "    .dataframe tbody tr th {\n",
       "        vertical-align: top;\n",
       "    }\n",
       "\n",
       "    .dataframe thead th {\n",
       "        text-align: right;\n",
       "    }\n",
       "</style>\n",
       "<table border=\"1\" class=\"dataframe\">\n",
       "  <thead>\n",
       "    <tr style=\"text-align: right;\">\n",
       "      <th></th>\n",
       "      <th>business_id</th>\n",
       "      <th>status_code</th>\n",
       "      <th>duration</th>\n",
       "      <th>json_length</th>\n",
       "      <th>url</th>\n",
       "      <th>url_yelp</th>\n",
       "    </tr>\n",
       "  </thead>\n",
       "  <tbody>\n",
       "    <tr>\n",
       "      <td>23</td>\n",
       "      <td>dja9beNvdd_SmXxn8At5aQ</td>\n",
       "      <td>200</td>\n",
       "      <td>1.28523</td>\n",
       "      <td>1</td>\n",
       "      <td>http://django-tally-dev.n9ntucwqks.us-west-2.e...</td>\n",
       "      <td>https://www.yelp.com/biz/dja9beNvdd_SmXxn8At5aQ</td>\n",
       "    </tr>\n",
       "  </tbody>\n",
       "</table>\n",
       "</div>"
      ],
      "text/plain": [
       "               business_id  status_code  duration  json_length  \\\n",
       "23  dja9beNvdd_SmXxn8At5aQ          200   1.28523            1   \n",
       "\n",
       "                                                  url  \\\n",
       "23  http://django-tally-dev.n9ntucwqks.us-west-2.e...   \n",
       "\n",
       "                                           url_yelp  \n",
       "23  https://www.yelp.com/biz/dja9beNvdd_SmXxn8At5aQ  "
      ]
     },
     "execution_count": 66,
     "metadata": {},
     "output_type": "execute_result"
    }
   ],
   "source": [
    "import pandas as pd\n",
    "df_tmp = pd.read_csv('biz4viztype1.csv')\n",
    "print(df_tmp.shape)\n",
    "df_tmp.sample()"
   ]
  },
  {
   "cell_type": "code",
   "execution_count": 56,
   "metadata": {},
   "outputs": [
    {
     "ename": "TypeError",
     "evalue": "dbConnect() missing 1 required positional argument: 'results'",
     "output_type": "error",
     "traceback": [
      "\u001b[1;31m---------------------------------------------------------------------------\u001b[0m",
      "\u001b[1;31mTypeError\u001b[0m                                 Traceback (most recent call last)",
      "\u001b[1;32m<ipython-input-56-d732adaebb37>\u001b[0m in \u001b[0;36m<module>\u001b[1;34m\u001b[0m\n\u001b[1;32m----> 1\u001b[1;33m \u001b[0mdbConnect\u001b[0m\u001b[1;33m(\u001b[0m\u001b[1;33m)\u001b[0m\u001b[1;33m\u001b[0m\u001b[1;33m\u001b[0m\u001b[0m\n\u001b[0m",
      "\u001b[1;31mTypeError\u001b[0m: dbConnect() missing 1 required positional argument: 'results'"
     ]
    }
   ],
   "source": [
    "%%time\n",
    "## update the testing data CSV file\n",
    "import requests\n",
    "import time\n",
    "\n",
    "\n",
    "url_base = \"http://django-tally-dev.n9ntucwqks.us-west-2.elasticbeanstalk.com/yelp/\"\n",
    "url_localhost = \"http://127.0.0.1:8000/yelp/\"\n",
    "url_base_yelp = 'https://www.yelp.com/biz/'\n",
    "\n",
    "\n",
    "results = []\n",
    "for _, row in df_tmp.iterrows():\n",
    "    results = yelpScraper(row['business_id'])\n",
    "    dbConnect(results)\n",
    "    \n",
    "    results.append([row['business_id'], status_code, duration, json_length, url, url_yelp])\n",
    "df_results = pd.DataFrame(results, columns=df_tmp.columns)\n",
    "print(df_results.shape)"
   ]
  },
  {
   "cell_type": "code",
   "execution_count": 67,
   "metadata": {},
   "outputs": [],
   "source": [
    "def dbConnect(business_id, limit=200):\n",
    "    item_count = 0\n",
    "    with conn.cursor() as cur:\n",
    "        for i in results:\n",
    "            x = i[0]\n",
    "            y = i[1]\n",
    "            z = i[2][:18]#\n",
    "            cur.execute('SELECT date, text,stars::INTEGER FROM tallyds.review WHERE business_id = '{business_id}' ORDER BY datetime DESC LIMIT 200;')\n",
    "\n",
    "            conn.commit()\n",
    "            cur.execute(\"select * from lab.receipt\")\n",
    "            for row in cur:\n",
    "                item_count += 1\n",
    "                logger.info(row)\n",
    "        conn.commit()\n",
    "    return \"Added %d items from RDS postGreSQL table\" %(item_count)\n",
    "\n",
    "\n",
    "def getLatestReviews(business_id, \n",
    "                     limit=200):\n",
    "    sql = f'''\n",
    "    SELECT date, \n",
    "           text,\n",
    "           stars::INTEGER\n",
    "    FROM tallyds.review\n",
    "    WHERE business_id = '{business_id}'\n",
    "    ORDER BY datetime DESC\n",
    "    LIMIT 200;\n",
    "    '''\n",
    "    with connection.cursor() as cursor:\n",
    "        cursor.execute(sql)\n",
    "        # return a list of tuples\n",
    "        return cursor.fetchall()"
   ]
  },
  {
   "cell_type": "code",
   "execution_count": 68,
   "metadata": {},
   "outputs": [
    {
     "ename": "NameError",
     "evalue": "name 'connection' is not defined",
     "output_type": "error",
     "traceback": [
      "\u001b[1;31m---------------------------------------------------------------------------\u001b[0m",
      "\u001b[1;31mNameError\u001b[0m                                 Traceback (most recent call last)",
      "\u001b[1;32m<ipython-input-68-70ecb8d08d4c>\u001b[0m in \u001b[0;36m<module>\u001b[1;34m\u001b[0m\n\u001b[1;32m----> 1\u001b[1;33m \u001b[0mgetLatestReviews\u001b[0m\u001b[1;33m(\u001b[0m\u001b[1;34m\"jga_2HO_j4I7tSYf5cCEnQ\"\u001b[0m\u001b[1;33m,\u001b[0m \u001b[0mlimit\u001b[0m\u001b[1;33m=\u001b[0m\u001b[1;36m200\u001b[0m\u001b[1;33m)\u001b[0m\u001b[1;33m\u001b[0m\u001b[1;33m\u001b[0m\u001b[0m\n\u001b[0m",
      "\u001b[1;32m<ipython-input-67-9e6686100fb9>\u001b[0m in \u001b[0;36mgetLatestReviews\u001b[1;34m(business_id, limit)\u001b[0m\n\u001b[0;32m     10\u001b[0m     \u001b[0mLIMIT\u001b[0m \u001b[1;36m200\u001b[0m\u001b[1;33m;\u001b[0m\u001b[1;33m\u001b[0m\u001b[1;33m\u001b[0m\u001b[0m\n\u001b[0;32m     11\u001b[0m     '''\n\u001b[1;32m---> 12\u001b[1;33m     \u001b[1;32mwith\u001b[0m \u001b[0mconnection\u001b[0m\u001b[1;33m.\u001b[0m\u001b[0mcursor\u001b[0m\u001b[1;33m(\u001b[0m\u001b[1;33m)\u001b[0m \u001b[1;32mas\u001b[0m \u001b[0mcursor\u001b[0m\u001b[1;33m:\u001b[0m\u001b[1;33m\u001b[0m\u001b[1;33m\u001b[0m\u001b[0m\n\u001b[0m\u001b[0;32m     13\u001b[0m         \u001b[0mcursor\u001b[0m\u001b[1;33m.\u001b[0m\u001b[0mexecute\u001b[0m\u001b[1;33m(\u001b[0m\u001b[0msql\u001b[0m\u001b[1;33m)\u001b[0m\u001b[1;33m\u001b[0m\u001b[1;33m\u001b[0m\u001b[0m\n\u001b[0;32m     14\u001b[0m         \u001b[1;31m# return a list of tuples\u001b[0m\u001b[1;33m\u001b[0m\u001b[1;33m\u001b[0m\u001b[1;33m\u001b[0m\u001b[0m\n",
      "\u001b[1;31mNameError\u001b[0m: name 'connection' is not defined"
     ]
    }
   ],
   "source": [
    "getLatestReviews(\"jga_2HO_j4I7tSYf5cCEnQ\", limit=200)"
   ]
  },
  {
   "cell_type": "code",
   "execution_count": null,
   "metadata": {},
   "outputs": [],
   "source": []
  },
  {
   "cell_type": "code",
   "execution_count": null,
   "metadata": {},
   "outputs": [],
   "source": []
  },
  {
   "cell_type": "code",
   "execution_count": null,
   "metadata": {},
   "outputs": [],
   "source": []
  },
  {
   "cell_type": "code",
   "execution_count": null,
   "metadata": {},
   "outputs": [],
   "source": []
  },
  {
   "cell_type": "code",
   "execution_count": null,
   "metadata": {},
   "outputs": [],
   "source": []
  },
  {
   "cell_type": "code",
   "execution_count": null,
   "metadata": {},
   "outputs": [],
   "source": []
  },
  {
   "cell_type": "code",
   "execution_count": null,
   "metadata": {},
   "outputs": [],
   "source": []
  },
  {
   "cell_type": "code",
   "execution_count": null,
   "metadata": {},
   "outputs": [],
   "source": []
  },
  {
   "cell_type": "code",
   "execution_count": null,
   "metadata": {},
   "outputs": [],
   "source": []
  },
  {
   "cell_type": "code",
   "execution_count": null,
   "metadata": {},
   "outputs": [],
   "source": []
  },
  {
   "cell_type": "code",
   "execution_count": null,
   "metadata": {},
   "outputs": [],
   "source": []
  },
  {
   "cell_type": "code",
   "execution_count": null,
   "metadata": {},
   "outputs": [],
   "source": []
  }
 ],
 "metadata": {
  "kernelspec": {
   "display_name": "Python 3",
   "language": "python",
   "name": "python3"
  },
  "language_info": {
   "codemirror_mode": {
    "name": "ipython",
    "version": 3
   },
   "file_extension": ".py",
   "mimetype": "text/x-python",
   "name": "python",
   "nbconvert_exporter": "python",
   "pygments_lexer": "ipython3",
   "version": "3.7.4"
  }
 },
 "nbformat": 4,
 "nbformat_minor": 4
}
