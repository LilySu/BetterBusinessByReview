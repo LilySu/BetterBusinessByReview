{
 "cells": [
  {
   "cell_type": "markdown",
   "metadata": {
    "colab_type": "text",
    "id": "view-in-github"
   },
   "source": [
    "<a href=\"https://colab.research.google.com/github/LilySu/BetterBusinessByReview/blob/master/Tally_EndPoint_Refactoring.ipynb\" target=\"_parent\"><img src=\"https://colab.research.google.com/assets/colab-badge.svg\" alt=\"Open In Colab\"/></a>"
   ]
  },
  {
   "cell_type": "markdown",
   "metadata": {
    "colab_type": "text",
    "id": "Gat2YEA-X7z6"
   },
   "source": [
    "#Imports"
   ]
  },
  {
   "cell_type": "code",
   "execution_count": null,
   "metadata": {
    "colab": {
     "base_uri": "https://localhost:8080/",
     "height": 646
    },
    "colab_type": "code",
    "id": "usQcoj6lXdj7",
    "outputId": "9dae6023-0e1a-45e4-8b5e-afeae367b7a9"
   },
   "outputs": [
    {
     "name": "stdout",
     "output_type": "stream",
     "text": [
      "Collecting scattertext\n",
      "\u001b[?25l  Downloading https://files.pythonhosted.org/packages/e0/6a/d2b2af772934a946cbebb47cb068b4631ed437a264d9cfc7ef5761f95e00/scattertext-0.0.2.56-py3-none-any.whl (6.8MB)\n",
      "\u001b[K     |████████████████████████████████| 6.8MB 2.7MB/s \n",
      "\u001b[?25hRequirement already satisfied: six in /usr/local/lib/python3.6/dist-packages (from scattertext) (1.12.0)\n",
      "Requirement already satisfied: scipy in /usr/local/lib/python3.6/dist-packages (from scattertext) (1.3.3)\n",
      "Requirement already satisfied: numpy in /usr/local/lib/python3.6/dist-packages (from scattertext) (1.17.4)\n",
      "Collecting mock\n",
      "  Downloading https://files.pythonhosted.org/packages/05/d2/f94e68be6b17f46d2c353564da56e6fb89ef09faeeff3313a046cb810ca9/mock-3.0.5-py2.py3-none-any.whl\n",
      "Requirement already satisfied: pandas in /usr/local/lib/python3.6/dist-packages (from scattertext) (0.25.3)\n",
      "Requirement already satisfied: statsmodels in /usr/local/lib/python3.6/dist-packages (from scattertext) (0.10.2)\n",
      "Requirement already satisfied: scikit-learn in /usr/local/lib/python3.6/dist-packages (from scattertext) (0.21.3)\n",
      "Requirement already satisfied: python-dateutil>=2.6.1 in /usr/local/lib/python3.6/dist-packages (from pandas->scattertext) (2.6.1)\n",
      "Requirement already satisfied: pytz>=2017.2 in /usr/local/lib/python3.6/dist-packages (from pandas->scattertext) (2018.9)\n",
      "Requirement already satisfied: patsy>=0.4.0 in /usr/local/lib/python3.6/dist-packages (from statsmodels->scattertext) (0.5.1)\n",
      "Requirement already satisfied: joblib>=0.11 in /usr/local/lib/python3.6/dist-packages (from scikit-learn->scattertext) (0.14.1)\n",
      "Installing collected packages: mock, scattertext\n",
      "Successfully installed mock-3.0.5 scattertext-0.0.2.56\n",
      "Collecting flask_cors\n",
      "  Downloading https://files.pythonhosted.org/packages/78/38/e68b11daa5d613e3a91e4bf3da76c94ac9ee0d9cd515af9c1ab80d36f709/Flask_Cors-3.0.8-py2.py3-none-any.whl\n",
      "Requirement already satisfied: Six in /usr/local/lib/python3.6/dist-packages (from flask_cors) (1.12.0)\n",
      "Requirement already satisfied: Flask>=0.9 in /usr/local/lib/python3.6/dist-packages (from flask_cors) (1.1.1)\n",
      "Requirement already satisfied: Werkzeug>=0.15 in /usr/local/lib/python3.6/dist-packages (from Flask>=0.9->flask_cors) (0.16.0)\n",
      "Requirement already satisfied: click>=5.1 in /usr/local/lib/python3.6/dist-packages (from Flask>=0.9->flask_cors) (7.0)\n",
      "Requirement already satisfied: Jinja2>=2.10.1 in /usr/local/lib/python3.6/dist-packages (from Flask>=0.9->flask_cors) (2.10.3)\n",
      "Requirement already satisfied: itsdangerous>=0.24 in /usr/local/lib/python3.6/dist-packages (from Flask>=0.9->flask_cors) (1.1.0)\n",
      "Requirement already satisfied: MarkupSafe>=0.23 in /usr/local/lib/python3.6/dist-packages (from Jinja2>=2.10.1->Flask>=0.9->flask_cors) (1.1.1)\n",
      "Installing collected packages: flask-cors\n",
      "Successfully installed flask-cors-3.0.8\n",
      "Collecting python-decouple\n",
      "  Downloading https://files.pythonhosted.org/packages/c7/82/dd20cdca396f58be86c6e710a3958f4a34ca98c5dd3989ee978b6cb9f97e/python-decouple-3.3.tar.gz\n",
      "Building wheels for collected packages: python-decouple\n",
      "  Building wheel for python-decouple (setup.py) ... \u001b[?25l\u001b[?25hdone\n",
      "  Created wheel for python-decouple: filename=python_decouple-3.3-cp36-none-any.whl size=9024 sha256=39e1a4a0684be298818c9235f7d4cbcc5dac1ab72a58c9870725c9ba9d572ef3\n",
      "  Stored in directory: /root/.cache/pip/wheels/f4/9b/79/5eec9ea205382552b014e749cb8a2b4ce0d6836a6f4db5ac0c\n",
      "Successfully built python-decouple\n",
      "Installing collected packages: python-decouple\n",
      "Successfully installed python-decouple-3.3\n"
     ]
    }
   ],
   "source": [
    "# !pip install scattertext\n",
    "# !pip install flask_cors\n",
    "# !pip install python-decouple"
   ]
  },
  {
   "cell_type": "code",
   "execution_count": null,
   "metadata": {
    "colab": {
     "base_uri": "https://localhost:8080/",
     "height": 88
    },
    "colab_type": "code",
    "id": "7P4Z-2N7RqIW",
    "outputId": "c62f0141-80be-4edd-c29c-533a3d868e88"
   },
   "outputs": [
    {
     "name": "stdout",
     "output_type": "stream",
     "text": [
      "Requirement already satisfied: en_core_web_sm==2.1.0 from https://github.com/explosion/spacy-models/releases/download/en_core_web_sm-2.1.0/en_core_web_sm-2.1.0.tar.gz#egg=en_core_web_sm==2.1.0 in /usr/local/lib/python3.6/dist-packages (2.1.0)\n",
      "\u001b[38;5;2m✔ Download and installation successful\u001b[0m\n",
      "You can now load the model via spacy.load('en_core_web_sm')\n"
     ]
    }
   ],
   "source": [
    "# !pip install -U spacy\n",
    "# !python -m spacy download en_core_web_sm\n"
   ]
  },
  {
   "cell_type": "code",
   "execution_count": null,
   "metadata": {
    "colab": {},
    "colab_type": "code",
    "id": "bYUgG4XLPzkJ"
   },
   "outputs": [],
   "source": [
    "from flask import Flask, render_template, request, jsonify\n",
    "import json\n",
    "import warnings\n",
    "import pandas as pd\n",
    "import spacy\n",
    "import scattertext as st\n",
    "from lxml import html\n",
    "from requests import Session\n",
    "from concurrent.futures import ThreadPoolExecutor as Executor\n",
    "import requests\n",
    "from flask_cors import CORS\n",
    "from decouple import config"
   ]
  },
  {
   "cell_type": "code",
   "execution_count": null,
   "metadata": {
    "colab": {},
    "colab_type": "code",
    "id": "NBBKwqNZRdwK"
   },
   "outputs": [],
   "source": [
    "nlp = spacy.load(\"en_core_web_sm\")"
   ]
  },
  {
   "cell_type": "markdown",
   "metadata": {
    "colab_type": "text",
    "id": "ZaAtoITVYFjK"
   },
   "source": [
    "# Code\n"
   ]
  },
  {
   "cell_type": "code",
   "execution_count": null,
   "metadata": {
    "colab": {
     "base_uri": "https://localhost:8080/",
     "height": 111
    },
    "colab_type": "code",
    "id": "MEPxvk6JP06C",
    "outputId": "bef6ddb2-87b2-4c4c-dfab-ecc69b4f036b"
   },
   "outputs": [
    {
     "data": {
      "text/html": [
       "<div>\n",
       "<style scoped>\n",
       "    .dataframe tbody tr th:only-of-type {\n",
       "        vertical-align: middle;\n",
       "    }\n",
       "\n",
       "    .dataframe tbody tr th {\n",
       "        vertical-align: top;\n",
       "    }\n",
       "\n",
       "    .dataframe thead th {\n",
       "        text-align: right;\n",
       "    }\n",
       "</style>\n",
       "<table border=\"1\" class=\"dataframe\">\n",
       "  <thead>\n",
       "    <tr style=\"text-align: right;\">\n",
       "      <th></th>\n",
       "      <th>0</th>\n",
       "      <th>1</th>\n",
       "      <th>2</th>\n",
       "    </tr>\n",
       "  </thead>\n",
       "  <tbody>\n",
       "    <tr>\n",
       "      <th>18</th>\n",
       "      <td>\\n        6/7/2016\\n</td>\n",
       "      <td>This place is my JAM. I always try to make a s...</td>\n",
       "      <td>5.0 star rating</td>\n",
       "    </tr>\n",
       "    <tr>\n",
       "      <th>10</th>\n",
       "      <td>\\n        5/26/2018\\n</td>\n",
       "      <td>I was visiting from out of town and wanted to ...</td>\n",
       "      <td>5.0 star rating</td>\n",
       "    </tr>\n",
       "  </tbody>\n",
       "</table>\n",
       "</div>"
      ],
      "text/plain": [
       "                            0  ...                2\n",
       "18   \\n        6/7/2016\\n      ...  5.0 star rating\n",
       "10  \\n        5/26/2018\\n      ...  5.0 star rating\n",
       "\n",
       "[2 rows x 3 columns]"
      ]
     },
     "execution_count": 19,
     "metadata": {
      "tags": []
     },
     "output_type": "execute_result"
    }
   ],
   "source": [
    "base_url = \"https://www.yelp.com/biz/\" # add business id\n",
    "api_url = \"/review_feed?sort_by=date_desc&start=\"\n",
    "bid = 'Kt4NZ9IXvRCHI8qvV0h8qg'\n",
    "\n",
    "class Scraper():\n",
    "    def __init__(self):\n",
    "        self.data = pd.DataFrame()\n",
    "\n",
    "    def get_data(self, n, bid=bid):\n",
    "        with Session() as s:\n",
    "            with s.get(base_url+bid+api_url+str(n*20)) as resp: #makes an http get request to given url and returns response as json\n",
    "                r = json.loads(resp.content) #converts json response into a dictionary\n",
    "                _html = html.fromstring(r['review_list']) #loads from dictionary\n",
    "\n",
    "                dates = _html.xpath(\"//div[@class='review-content']/descendant::span[@class='rating-qualifier']/text()\")\n",
    "                reviews = [el.text for el in _html.xpath(\"//div[@class='review-content']/p\")]\n",
    "                ratings = _html.xpath(\"//div[@class='review-content']/descendant::div[@class='biz-rating__stars']/div/@title\")\n",
    "\n",
    "                df = pd.DataFrame([dates, reviews, ratings]).T\n",
    "\n",
    "                self.data = pd.concat([self.data,df])\n",
    "\n",
    "    def scrape(self): #makes it faster\n",
    "        # multithreaded looping\n",
    "        with Executor(max_workers=40) as e:\n",
    "            list(e.map(self.get_data, range(10)))\n",
    "\n",
    "s = Scraper()\n",
    "s.scrape()\n",
    "df = s.data\n",
    "df = df.sample(100)\n",
    "\n",
    "df.head(2)"
   ]
  },
  {
   "cell_type": "code",
   "execution_count": null,
   "metadata": {
    "colab": {},
    "colab_type": "code",
    "id": "dJdJ1RpbP951"
   },
   "outputs": [],
   "source": [
    "corpus = st.CorpusFromPandas(df, \n",
    "                          category_col=2, \n",
    "                          text_col=1,\n",
    "                          nlp=nlp).build()\n",
    "\n",
    "term_freq_df = corpus.get_term_freq_df()\n",
    "term_freq_df['highratingscore'] = corpus.get_scaled_f_scores('5.0 star rating')\n",
    "\n",
    "term_freq_df['poorratingscore'] = corpus.get_scaled_f_scores('1.0 star rating')\n",
    "dh = term_freq_df.sort_values(by= 'highratingscore', ascending = False)\n",
    "dh = dh[['highratingscore', 'poorratingscore']]\n",
    "dh = dh.reset_index(drop=False)"
   ]
  },
  {
   "cell_type": "code",
   "execution_count": null,
   "metadata": {
    "colab": {},
    "colab_type": "code",
    "id": "McexHKb3Tj6l"
   },
   "outputs": [],
   "source": [
    "dh = dh.rename(columns={'highratingscore':'score'})\n",
    "dh = dh.drop(columns='poorratingscore')\n",
    "positive_df = dh.head(10)\n",
    "negative_df = dh.tail(10)\n",
    "# word_df = pd.concat([positive_df, negative_df])\n",
    "# word_df"
   ]
  },
  {
   "cell_type": "code",
   "execution_count": null,
   "metadata": {
    "colab": {},
    "colab_type": "code",
    "id": "4OVpIJdFaYqC"
   },
   "outputs": [],
   "source": [
    "results = {'positive': [{'term': pos_term, 'score': pos_score} for pos_term, pos_score in zip(positive_df['term'], positive_df['score'])], 'negative': [{'term': neg_term, 'score': neg_score} for neg_term, neg_score in zip(negative_df['term'], negative_df['score'])]}"
   ]
  },
  {
   "cell_type": "code",
   "execution_count": null,
   "metadata": {
    "colab": {
     "base_uri": "https://localhost:8080/",
     "height": 357
    },
    "colab_type": "code",
    "id": "25GwtZs5aYVs",
    "outputId": "678f4f0d-d81c-427b-ad58-0a0d174aeda8"
   },
   "outputs": [
    {
     "data": {
      "text/plain": [
       "{'negative': [{'score': 0.03301130523201978, 'term': 'pour over'},\n",
       "  {'score': 0.03301130523201978, 'term': 'seats'},\n",
       "  {'score': 0.02510666224208863, 'term': \"n't\"},\n",
       "  {'score': 0.017851582099353724, 'term': 'inside'},\n",
       "  {'score': 0.017851582099353724, 'term': 'counter'},\n",
       "  {'score': 0.016076611300342436, 'term': 'pour'},\n",
       "  {'score': 0.012149792771618761, 'term': 'an'},\n",
       "  {'score': 0.004435059520226214, 'term': 'over'},\n",
       "  {'score': 0.0, 'term': 'she'},\n",
       "  {'score': 0.0, 'term': 'while'}],\n",
       " 'positive': [{'score': 1.0, 'term': \"'ve\"},\n",
       "  {'score': 0.9930754317101049, 'term': 'also'},\n",
       "  {'score': 0.9921167401729372, 'term': \"i 've\"},\n",
       "  {'score': 0.972670377645104, 'term': 'best'},\n",
       "  {'score': 0.9665201105289263, 'term': 'nice'},\n",
       "  {'score': 0.9628389324069242, 'term': 'and i'},\n",
       "  {'score': 0.9615896187531767, 'term': 'super'},\n",
       "  {'score': 0.9591165396694632, 'term': 'staff'},\n",
       "  {'score': 0.9591165396694632, 'term': 'from'},\n",
       "  {'score': 0.9545264154685009, 'term': 'great'}]}"
      ]
     },
     "execution_count": 23,
     "metadata": {
      "tags": []
     },
     "output_type": "execute_result"
    }
   ],
   "source": [
    "results"
   ]
  }
 ],
 "metadata": {
  "colab": {
   "collapsed_sections": [],
   "include_colab_link": true,
   "name": "Tally_EndPoint_Refactoring.ipynb",
   "provenance": []
  },
  "kernelspec": {
   "display_name": "Python 3",
   "language": "python",
   "name": "python3"
  },
  "language_info": {
   "codemirror_mode": {
    "name": "ipython",
    "version": 3
   },
   "file_extension": ".py",
   "mimetype": "text/x-python",
   "name": "python",
   "nbconvert_exporter": "python",
   "pygments_lexer": "ipython3",
   "version": "3.7.4"
  }
 },
 "nbformat": 4,
 "nbformat_minor": 4
}
