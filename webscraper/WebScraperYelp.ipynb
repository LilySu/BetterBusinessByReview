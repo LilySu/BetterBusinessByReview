{
 "cells": [
  {
   "cell_type": "code",
   "execution_count": null,
   "metadata": {},
   "outputs": [],
   "source": [
    "#Imports\n",
    "from json import loads\n",
    "from lxml import html\n",
    "from requests import Session\n",
    "import pandas as pd\n",
    "from concurrent.futures import ThreadPoolExecutor as Executor\n",
    "from itertools import count\n",
    "\n",
    "base_url = \"https://www.yelp.com/biz/\" # add business id\n",
    "api_url = \"/review_feed?sort_by=date_desc&start=\"\n",
    "bid = \"flower-child-addison-2\" # business id\n",
    "\n",
    "class Scraper():\n",
    "    def __init__(self):\n",
    "        self.data = pd.DataFrame()\n",
    "\n",
    "    def get_data(self, n, bid=bid):\n",
    "        with Session() as s:\n",
    "            with s.get(base_url+bid+api_url+str(n*20)) as resp: #makes an http get request to given url and returns response as json\n",
    "                r = loads(resp.content) #converts json response into a dictionary\n",
    "                _html = html.fromstring(r['review_list']) #loads from dictionary\n",
    "\n",
    "                dates = _html.xpath(\"//div[@class='review-content']/descendant::span[@class='rating-qualifier']/text()\")\n",
    "                reviews = [el.text for el in _html.xpath(\"//div[@class='review-content']/p\")]\n",
    "                ratings = _html.xpath(\"//div[@class='review-content']/descendant::div[@class='biz-rating__stars']/div/@title\")\n",
    "\n",
    "                df = pd.DataFrame([dates, reviews, ratings]).T\n",
    "\n",
    "                self.data = pd.concat([self.data,df])\n",
    "\n",
    "    def scrape(self): #makes it faster\n",
    "        # multithreaded looping\n",
    "        with Executor(max_workers=40) as e:\n",
    "            list(e.map(self.get_data, range(10)))\n",
    "\n",
    "\n",
    "s = Scraper()\n",
    "s.scrape()\n",
    "print(s.data)"
   ]
  }
 ],
 "metadata": {
  "kernelspec": {
   "display_name": "Python 3",
   "language": "python",
   "name": "python3"
  },
  "language_info": {
   "codemirror_mode": {
    "name": "ipython",
    "version": 3
   },
   "file_extension": ".py",
   "mimetype": "text/x-python",
   "name": "python",
   "nbconvert_exporter": "python",
   "pygments_lexer": "ipython3",
   "version": "3.7.4"
  }
 },
 "nbformat": 4,
 "nbformat_minor": 4
}
